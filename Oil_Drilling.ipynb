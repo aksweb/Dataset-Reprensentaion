{
  "nbformat": 4,
  "nbformat_minor": 0,
  "metadata": {
    "colab": {
      "provenance": [],
      "authorship_tag": "ABX9TyMGopd+VIFcyS1nX55CX1kG",
      "include_colab_link": true
    },
    "kernelspec": {
      "name": "python3",
      "display_name": "Python 3"
    },
    "language_info": {
      "name": "python"
    }
  },
  "cells": [
    {
      "cell_type": "markdown",
      "metadata": {
        "id": "view-in-github",
        "colab_type": "text"
      },
      "source": [
        "<a href=\"https://colab.research.google.com/github/aksweb/Dataset-Reprensentaion/blob/main/Oil_Drilling.ipynb\" target=\"_parent\"><img src=\"https://colab.research.google.com/assets/colab-badge.svg\" alt=\"Open In Colab\"/></a>"
      ]
    },
    {
      "cell_type": "code",
      "execution_count": 1,
      "metadata": {
        "id": "-cs-9R5EXnQ9"
      },
      "outputs": [],
      "source": [
        "import pandas as pd\n",
        "import numpy as np\n",
        "import matplotlib.pyplot as plt\n"
      ]
    },
    {
      "cell_type": "code",
      "source": [
        "Datascriper = pd.read_csv('/content/sample_data/EDM Hackathon Final.csv')"
      ],
      "metadata": {
        "id": "1DiyGQ8sYA94"
      },
      "execution_count": 2,
      "outputs": []
    },
    {
      "cell_type": "markdown",
      "source": [],
      "metadata": {
        "id": "AF9Apvu5Zps_"
      }
    },
    {
      "cell_type": "code",
      "source": [
        "Datascriper.head(),\n",
        "Datascriper.shape,\n",
        "Datascriper.size,\n",
        "Datascriper.info\n"
      ],
      "metadata": {
        "colab": {
          "base_uri": "https://localhost:8080/"
        },
        "id": "S9STbYwJZqT_",
        "outputId": "cb48f898-cddf-4c3d-a53e-a6aeaadcb872"
      },
      "execution_count": 4,
      "outputs": [
        {
          "output_type": "execute_result",
          "data": {
            "text/plain": [
              "<bound method DataFrame.info of        DEPTH     BVW      KLOGH    PHIF      SW   VCARB     VSH\n",
              "0     3319.7  0.0200     0.0010  0.0200  1.0000  0.0120  0.7446\n",
              "1     3319.8  0.0200     0.0010  0.0200  1.0000  0.0000  0.7582\n",
              "2     3319.9  0.0200     0.0017  0.0200  1.0000  0.0339  0.5477\n",
              "3     3320.0  0.0238     0.0306  0.0238  1.0000  0.1487  0.4117\n",
              "4     3320.1  0.0413     0.1252  0.0413  1.0000  0.1526  0.3592\n",
              "...      ...     ...        ...     ...     ...     ...     ...\n",
              "7854  3488.0  0.0209   668.7131  0.1910  0.1096  0.0000  0.0781\n",
              "7855  3488.1  0.0210   826.0492  0.1935  0.1084  0.0000  0.0701\n",
              "7856  3488.2  0.0209  1278.8179  0.1964  0.1063  0.0000  0.0516\n",
              "7857  3488.3  0.0209  1101.9746  0.1996  0.1047  0.0000  0.0616\n",
              "7858  3488.4  0.0211  1019.0737  0.2030  0.1038  0.0000  0.0684\n",
              "\n",
              "[7859 rows x 7 columns]>"
            ]
          },
          "metadata": {},
          "execution_count": 4
        }
      ]
    },
    {
      "cell_type": "code",
      "source": [
        "Datascriper['DEPTH'].mean() , Datascriper['DEPTH'].count(), Datascriper['DEPTH'].max(),Datascriper['DEPTH'].min()\n"
      ],
      "metadata": {
        "colab": {
          "base_uri": "https://localhost:8080/"
        },
        "id": "6PY1GdycZ5xm",
        "outputId": "1af573e1-5648-4337-ade0-d71dc16d7122"
      },
      "execution_count": 5,
      "outputs": [
        {
          "output_type": "execute_result",
          "data": {
            "text/plain": [
              "(0.3875374585774272, 7859, 1.0, 0.0171)"
            ]
          },
          "metadata": {},
          "execution_count": 5
        }
      ]
    },
    {
      "cell_type": "code",
      "source": [
        "Datascriper['KLOGH'].mean(), Datascriper['KLOGH'].count(),Datascriper['KLOGH'].max(),Datascriper['KLOGH'].min()"
      ],
      "metadata": {
        "colab": {
          "base_uri": "https://localhost:8080/"
        },
        "id": "5Ow8fC2LaK9K",
        "outputId": "dd56b84d-d919-4846-d19c-d360e5479f09"
      },
      "execution_count": 7,
      "outputs": [
        {
          "output_type": "execute_result",
          "data": {
            "text/plain": [
              "(102.5961550722942, 7859, 12109.04, 0.001)"
            ]
          },
          "metadata": {},
          "execution_count": 7
        }
      ]
    },
    {
      "cell_type": "code",
      "source": [
        "Datascriper['BVW'].mean(),  Datascriper['BVW'].count(),Datascriper['BVW'].max(),Datascriper['BVW'].min()"
      ],
      "metadata": {
        "colab": {
          "base_uri": "https://localhost:8080/"
        },
        "id": "OmjIBgVQaP7n",
        "outputId": "f78ba569-616c-4a08-8a2a-be19f5ad3546"
      },
      "execution_count": 8,
      "outputs": [
        {
          "output_type": "execute_result",
          "data": {
            "text/plain": [
              "(0.08105344027484414, 7859, 0.23999999, 0.001)"
            ]
          },
          "metadata": {},
          "execution_count": 8
        }
      ]
    },
    {
      "cell_type": "code",
      "source": [
        "Datascriper['PHIF'].mean(), Datascriper['PHIF'].count(),Datascriper['PHIF'].max(),Datascriper['PHIF'].min()"
      ],
      "metadata": {
        "colab": {
          "base_uri": "https://localhost:8080/"
        },
        "id": "ekPzDZxvaRW6",
        "outputId": "29794a00-a92c-4c0d-bbec-f8ea5188002e"
      },
      "execution_count": 9,
      "outputs": [
        {
          "output_type": "execute_result",
          "data": {
            "text/plain": [
              "(0.12236256351062476, 7859, 0.3526, 0.001)"
            ]
          },
          "metadata": {},
          "execution_count": 9
        }
      ]
    },
    {
      "cell_type": "code",
      "source": [
        "Datascriper['SW'].mean(), Datascriper['SW'].count(),Datascriper['SW'].max(),Datascriper['SW'].min()"
      ],
      "metadata": {
        "colab": {
          "base_uri": "https://localhost:8080/"
        },
        "id": "8WwcppJbaTC3",
        "outputId": "181004ee-9720-45ca-c898-2e81c136a468"
      },
      "execution_count": 10,
      "outputs": [
        {
          "output_type": "execute_result",
          "data": {
            "text/plain": [
              "(0.807676357246469, 7859, 1.0, 0.00999999)"
            ]
          },
          "metadata": {},
          "execution_count": 10
        }
      ]
    },
    {
      "cell_type": "code",
      "source": [
        "Datascriper['VCARB'].mean() ,Datascriper['VCARB'].count(),Datascriper['VCARB'].max(),Datascriper['VCARB'].min()"
      ],
      "metadata": {
        "colab": {
          "base_uri": "https://localhost:8080/"
        },
        "id": "TduGoEdTaUt4",
        "outputId": "63cd8ec8-ead7-4343-92b5-f80cffafe4dc"
      },
      "execution_count": 11,
      "outputs": [
        {
          "output_type": "execute_result",
          "data": {
            "text/plain": [
              "(0.0599062931696086, 5212, 0.5824, 0.0)"
            ]
          },
          "metadata": {},
          "execution_count": 11
        }
      ]
    },
    {
      "cell_type": "code",
      "source": [
        "Datascriper['VSH'].mean(), Datascriper['VSH'].count(),Datascriper['VSH'].max(),Datascriper['VSH'].min()"
      ],
      "metadata": {
        "colab": {
          "base_uri": "https://localhost:8080/"
        },
        "id": "hFLmy0Q8aWIo",
        "outputId": "7e48c0ed-c505-45f4-c92a-40b734dd9403"
      },
      "execution_count": 12,
      "outputs": [
        {
          "output_type": "execute_result",
          "data": {
            "text/plain": [
              "(0.3875374585774272, 7859, 1.0, 0.0171)"
            ]
          },
          "metadata": {},
          "execution_count": 12
        }
      ]
    },
    {
      "cell_type": "markdown",
      "source": [],
      "metadata": {
        "id": "XGvQ4371avM3"
      }
    },
    {
      "cell_type": "code",
      "source": [
        "Datascriper['KLOGH'].isnull().values.any(),\n",
        "\n"
      ],
      "metadata": {
        "colab": {
          "base_uri": "https://localhost:8080/"
        },
        "id": "oXZ4hg65aqCl",
        "outputId": "baa5b1f7-a215-41df-d801-6260ed774002"
      },
      "execution_count": 13,
      "outputs": [
        {
          "output_type": "execute_result",
          "data": {
            "text/plain": [
              "False"
            ]
          },
          "metadata": {},
          "execution_count": 13
        }
      ]
    },
    {
      "cell_type": "code",
      "source": [
        "\n",
        "Datascriper['DEPTH'].isnull().values.any()"
      ],
      "metadata": {
        "colab": {
          "base_uri": "https://localhost:8080/"
        },
        "id": "t4dWn3EvaywM",
        "outputId": "fe28ba3b-207c-4072-ece2-4768fff7aa0a"
      },
      "execution_count": 14,
      "outputs": [
        {
          "output_type": "execute_result",
          "data": {
            "text/plain": [
              "False"
            ]
          },
          "metadata": {},
          "execution_count": 14
        }
      ]
    },
    {
      "cell_type": "code",
      "source": [
        "Datascriper['BVW'].isnull().values.any()\n"
      ],
      "metadata": {
        "colab": {
          "base_uri": "https://localhost:8080/"
        },
        "id": "Kk04BSRha-ci",
        "outputId": "40b9c7cb-2694-488c-f6d3-c08989de5141"
      },
      "execution_count": 15,
      "outputs": [
        {
          "output_type": "execute_result",
          "data": {
            "text/plain": [
              "False"
            ]
          },
          "metadata": {},
          "execution_count": 15
        }
      ]
    },
    {
      "cell_type": "code",
      "source": [
        "Datascriper['PHIF'].isnull().values.any()\n"
      ],
      "metadata": {
        "id": "rm44bFrwbAtD"
      },
      "execution_count": null,
      "outputs": []
    },
    {
      "cell_type": "code",
      "source": [
        "\n",
        "Datascriper['SW'].isnull().values.any()\n",
        "\n"
      ],
      "metadata": {
        "id": "8dGLWMwwbDL7"
      },
      "execution_count": null,
      "outputs": []
    },
    {
      "cell_type": "code",
      "source": [
        "Datascriper['VCARB'].isnull().values.any(), Datascriper['VCARB'].isnull().values.sum()\n",
        "\n"
      ],
      "metadata": {
        "id": "II-CyL_rbEmY"
      },
      "execution_count": null,
      "outputs": []
    },
    {
      "cell_type": "code",
      "source": [
        "Datascriper['VSH'].isnull().values.any()\n",
        "\n"
      ],
      "metadata": {
        "id": "anjhJxgkbF-Y"
      },
      "execution_count": null,
      "outputs": []
    },
    {
      "cell_type": "code",
      "source": [
        "Datascriper['KLOGH'].duplicated()\n",
        "\n"
      ],
      "metadata": {
        "id": "NdxIIweXbH7I"
      },
      "execution_count": null,
      "outputs": []
    },
    {
      "cell_type": "code",
      "source": [
        "Datascriper['DEPTH'].duplicated()\n",
        "\n"
      ],
      "metadata": {
        "id": "FgVVpatYbJOR"
      },
      "execution_count": null,
      "outputs": []
    },
    {
      "cell_type": "code",
      "source": [
        "Datascriper['BVW'].duplicated()\n",
        "\n"
      ],
      "metadata": {
        "id": "F_JSdRyvbLHw"
      },
      "execution_count": null,
      "outputs": []
    },
    {
      "cell_type": "code",
      "source": [
        "Datascriper['PHIF'].duplicated()\n"
      ],
      "metadata": {
        "id": "V85N9mM9bMSo"
      },
      "execution_count": null,
      "outputs": []
    },
    {
      "cell_type": "code",
      "source": [
        "\n",
        "Datascriper['SW'].duplicated()"
      ],
      "metadata": {
        "id": "j6Kos9gqbNsp"
      },
      "execution_count": null,
      "outputs": []
    },
    {
      "cell_type": "code",
      "source": [],
      "metadata": {
        "id": "7-Cq53dJbSFR"
      },
      "execution_count": null,
      "outputs": []
    },
    {
      "cell_type": "markdown",
      "source": [
        "##SEarchingForDuplicate"
      ],
      "metadata": {
        "id": "AtZCR1KAbRh4"
      }
    },
    {
      "cell_type": "code",
      "source": [
        "dupKLOGH = Datascriper[Datascriper.duplicated('KLOGH')]\n",
        "dupKLOGH"
      ],
      "metadata": {
        "colab": {
          "base_uri": "https://localhost:8080/",
          "height": 424
        },
        "id": "pRlpV6BZbS9I",
        "outputId": "c7b452ba-fb36-4806-f03f-c17580381767"
      },
      "execution_count": 16,
      "outputs": [
        {
          "output_type": "execute_result",
          "data": {
            "text/plain": [
              "       DEPTH     BVW   KLOGH    PHIF      SW  VCARB     VSH\n",
              "1     3319.8  0.0200  0.0010  0.0200  1.0000    0.0  0.7582\n",
              "31    3322.8  0.1198  0.0010  0.1293  0.9268    0.0  0.6834\n",
              "32    3322.9  0.1078  0.0010  0.1225  0.8802    0.0  0.7392\n",
              "33    3323.0  0.0980  0.0010  0.1156  0.8475    0.0  0.7474\n",
              "34    3323.1  0.0939  0.0010  0.1080  0.8697    0.0  0.8016\n",
              "...      ...     ...     ...     ...     ...    ...     ...\n",
              "7794  3482.0  0.0864  0.0038  0.0864  1.0000    0.0  0.5674\n",
              "7795  3482.1  0.0896  0.0171  0.0896  1.0000    0.0  0.4980\n",
              "7796  3482.2  0.0887  0.0424  0.0887  1.0000    0.0  0.4536\n",
              "7797  3482.3  0.0863  0.0619  0.0863  1.0000    0.0  0.4332\n",
              "7798  3482.4  0.0844  0.0998  0.0844  1.0000    0.0  0.4084\n",
              "\n",
              "[2767 rows x 7 columns]"
            ],
            "text/html": [
              "\n",
              "  <div id=\"df-b8d7985c-8a56-4a49-b6b5-3154a0125ed5\">\n",
              "    <div class=\"colab-df-container\">\n",
              "      <div>\n",
              "<style scoped>\n",
              "    .dataframe tbody tr th:only-of-type {\n",
              "        vertical-align: middle;\n",
              "    }\n",
              "\n",
              "    .dataframe tbody tr th {\n",
              "        vertical-align: top;\n",
              "    }\n",
              "\n",
              "    .dataframe thead th {\n",
              "        text-align: right;\n",
              "    }\n",
              "</style>\n",
              "<table border=\"1\" class=\"dataframe\">\n",
              "  <thead>\n",
              "    <tr style=\"text-align: right;\">\n",
              "      <th></th>\n",
              "      <th>DEPTH</th>\n",
              "      <th>BVW</th>\n",
              "      <th>KLOGH</th>\n",
              "      <th>PHIF</th>\n",
              "      <th>SW</th>\n",
              "      <th>VCARB</th>\n",
              "      <th>VSH</th>\n",
              "    </tr>\n",
              "  </thead>\n",
              "  <tbody>\n",
              "    <tr>\n",
              "      <th>1</th>\n",
              "      <td>3319.8</td>\n",
              "      <td>0.0200</td>\n",
              "      <td>0.0010</td>\n",
              "      <td>0.0200</td>\n",
              "      <td>1.0000</td>\n",
              "      <td>0.0</td>\n",
              "      <td>0.7582</td>\n",
              "    </tr>\n",
              "    <tr>\n",
              "      <th>31</th>\n",
              "      <td>3322.8</td>\n",
              "      <td>0.1198</td>\n",
              "      <td>0.0010</td>\n",
              "      <td>0.1293</td>\n",
              "      <td>0.9268</td>\n",
              "      <td>0.0</td>\n",
              "      <td>0.6834</td>\n",
              "    </tr>\n",
              "    <tr>\n",
              "      <th>32</th>\n",
              "      <td>3322.9</td>\n",
              "      <td>0.1078</td>\n",
              "      <td>0.0010</td>\n",
              "      <td>0.1225</td>\n",
              "      <td>0.8802</td>\n",
              "      <td>0.0</td>\n",
              "      <td>0.7392</td>\n",
              "    </tr>\n",
              "    <tr>\n",
              "      <th>33</th>\n",
              "      <td>3323.0</td>\n",
              "      <td>0.0980</td>\n",
              "      <td>0.0010</td>\n",
              "      <td>0.1156</td>\n",
              "      <td>0.8475</td>\n",
              "      <td>0.0</td>\n",
              "      <td>0.7474</td>\n",
              "    </tr>\n",
              "    <tr>\n",
              "      <th>34</th>\n",
              "      <td>3323.1</td>\n",
              "      <td>0.0939</td>\n",
              "      <td>0.0010</td>\n",
              "      <td>0.1080</td>\n",
              "      <td>0.8697</td>\n",
              "      <td>0.0</td>\n",
              "      <td>0.8016</td>\n",
              "    </tr>\n",
              "    <tr>\n",
              "      <th>...</th>\n",
              "      <td>...</td>\n",
              "      <td>...</td>\n",
              "      <td>...</td>\n",
              "      <td>...</td>\n",
              "      <td>...</td>\n",
              "      <td>...</td>\n",
              "      <td>...</td>\n",
              "    </tr>\n",
              "    <tr>\n",
              "      <th>7794</th>\n",
              "      <td>3482.0</td>\n",
              "      <td>0.0864</td>\n",
              "      <td>0.0038</td>\n",
              "      <td>0.0864</td>\n",
              "      <td>1.0000</td>\n",
              "      <td>0.0</td>\n",
              "      <td>0.5674</td>\n",
              "    </tr>\n",
              "    <tr>\n",
              "      <th>7795</th>\n",
              "      <td>3482.1</td>\n",
              "      <td>0.0896</td>\n",
              "      <td>0.0171</td>\n",
              "      <td>0.0896</td>\n",
              "      <td>1.0000</td>\n",
              "      <td>0.0</td>\n",
              "      <td>0.4980</td>\n",
              "    </tr>\n",
              "    <tr>\n",
              "      <th>7796</th>\n",
              "      <td>3482.2</td>\n",
              "      <td>0.0887</td>\n",
              "      <td>0.0424</td>\n",
              "      <td>0.0887</td>\n",
              "      <td>1.0000</td>\n",
              "      <td>0.0</td>\n",
              "      <td>0.4536</td>\n",
              "    </tr>\n",
              "    <tr>\n",
              "      <th>7797</th>\n",
              "      <td>3482.3</td>\n",
              "      <td>0.0863</td>\n",
              "      <td>0.0619</td>\n",
              "      <td>0.0863</td>\n",
              "      <td>1.0000</td>\n",
              "      <td>0.0</td>\n",
              "      <td>0.4332</td>\n",
              "    </tr>\n",
              "    <tr>\n",
              "      <th>7798</th>\n",
              "      <td>3482.4</td>\n",
              "      <td>0.0844</td>\n",
              "      <td>0.0998</td>\n",
              "      <td>0.0844</td>\n",
              "      <td>1.0000</td>\n",
              "      <td>0.0</td>\n",
              "      <td>0.4084</td>\n",
              "    </tr>\n",
              "  </tbody>\n",
              "</table>\n",
              "<p>2767 rows × 7 columns</p>\n",
              "</div>\n",
              "      <button class=\"colab-df-convert\" onclick=\"convertToInteractive('df-b8d7985c-8a56-4a49-b6b5-3154a0125ed5')\"\n",
              "              title=\"Convert this dataframe to an interactive table.\"\n",
              "              style=\"display:none;\">\n",
              "        \n",
              "  <svg xmlns=\"http://www.w3.org/2000/svg\" height=\"24px\"viewBox=\"0 0 24 24\"\n",
              "       width=\"24px\">\n",
              "    <path d=\"M0 0h24v24H0V0z\" fill=\"none\"/>\n",
              "    <path d=\"M18.56 5.44l.94 2.06.94-2.06 2.06-.94-2.06-.94-.94-2.06-.94 2.06-2.06.94zm-11 1L8.5 8.5l.94-2.06 2.06-.94-2.06-.94L8.5 2.5l-.94 2.06-2.06.94zm10 10l.94 2.06.94-2.06 2.06-.94-2.06-.94-.94-2.06-.94 2.06-2.06.94z\"/><path d=\"M17.41 7.96l-1.37-1.37c-.4-.4-.92-.59-1.43-.59-.52 0-1.04.2-1.43.59L10.3 9.45l-7.72 7.72c-.78.78-.78 2.05 0 2.83L4 21.41c.39.39.9.59 1.41.59.51 0 1.02-.2 1.41-.59l7.78-7.78 2.81-2.81c.8-.78.8-2.07 0-2.86zM5.41 20L4 18.59l7.72-7.72 1.47 1.35L5.41 20z\"/>\n",
              "  </svg>\n",
              "      </button>\n",
              "      \n",
              "  <style>\n",
              "    .colab-df-container {\n",
              "      display:flex;\n",
              "      flex-wrap:wrap;\n",
              "      gap: 12px;\n",
              "    }\n",
              "\n",
              "    .colab-df-convert {\n",
              "      background-color: #E8F0FE;\n",
              "      border: none;\n",
              "      border-radius: 50%;\n",
              "      cursor: pointer;\n",
              "      display: none;\n",
              "      fill: #1967D2;\n",
              "      height: 32px;\n",
              "      padding: 0 0 0 0;\n",
              "      width: 32px;\n",
              "    }\n",
              "\n",
              "    .colab-df-convert:hover {\n",
              "      background-color: #E2EBFA;\n",
              "      box-shadow: 0px 1px 2px rgba(60, 64, 67, 0.3), 0px 1px 3px 1px rgba(60, 64, 67, 0.15);\n",
              "      fill: #174EA6;\n",
              "    }\n",
              "\n",
              "    [theme=dark] .colab-df-convert {\n",
              "      background-color: #3B4455;\n",
              "      fill: #D2E3FC;\n",
              "    }\n",
              "\n",
              "    [theme=dark] .colab-df-convert:hover {\n",
              "      background-color: #434B5C;\n",
              "      box-shadow: 0px 1px 3px 1px rgba(0, 0, 0, 0.15);\n",
              "      filter: drop-shadow(0px 1px 2px rgba(0, 0, 0, 0.3));\n",
              "      fill: #FFFFFF;\n",
              "    }\n",
              "  </style>\n",
              "\n",
              "      <script>\n",
              "        const buttonEl =\n",
              "          document.querySelector('#df-b8d7985c-8a56-4a49-b6b5-3154a0125ed5 button.colab-df-convert');\n",
              "        buttonEl.style.display =\n",
              "          google.colab.kernel.accessAllowed ? 'block' : 'none';\n",
              "\n",
              "        async function convertToInteractive(key) {\n",
              "          const element = document.querySelector('#df-b8d7985c-8a56-4a49-b6b5-3154a0125ed5');\n",
              "          const dataTable =\n",
              "            await google.colab.kernel.invokeFunction('convertToInteractive',\n",
              "                                                     [key], {});\n",
              "          if (!dataTable) return;\n",
              "\n",
              "          const docLinkHtml = 'Like what you see? Visit the ' +\n",
              "            '<a target=\"_blank\" href=https://colab.research.google.com/notebooks/data_table.ipynb>data table notebook</a>'\n",
              "            + ' to learn more about interactive tables.';\n",
              "          element.innerHTML = '';\n",
              "          dataTable['output_type'] = 'display_data';\n",
              "          await google.colab.output.renderOutput(dataTable, element);\n",
              "          const docLink = document.createElement('div');\n",
              "          docLink.innerHTML = docLinkHtml;\n",
              "          element.appendChild(docLink);\n",
              "        }\n",
              "      </script>\n",
              "    </div>\n",
              "  </div>\n",
              "  "
            ]
          },
          "metadata": {},
          "execution_count": 16
        }
      ]
    },
    {
      "cell_type": "code",
      "source": [
        "dupDepth = Datascriper[Datascriper.duplicated('DEPTH')]\n",
        "dupDepth\n"
      ],
      "metadata": {
        "colab": {
          "base_uri": "https://localhost:8080/",
          "height": 424
        },
        "id": "h07xVLKRbdCp",
        "outputId": "ab881f4b-ec8b-437c-f010-15189689c625"
      },
      "execution_count": 17,
      "outputs": [
        {
          "output_type": "execute_result",
          "data": {
            "text/plain": [
              "       DEPTH     BVW      KLOGH    PHIF      SW   VCARB     VSH\n",
              "3775  3319.7  0.0718     0.0748  0.0718  1.0000  0.2310  0.2122\n",
              "3776  3319.8  0.0687     0.0569  0.0687  1.0000  0.2289  0.2223\n",
              "3777  3319.9  0.0645     0.0398  0.0645  1.0000  0.2327  0.2314\n",
              "3778  3320.0  0.0615     0.0337  0.0615  1.0000  0.2610  0.2197\n",
              "3779  3320.1  0.0606     0.0312  0.0606  1.0000  0.2616  0.2217\n",
              "...      ...     ...        ...     ...     ...     ...     ...\n",
              "7854  3488.0  0.0209   668.7131  0.1910  0.1096  0.0000  0.0781\n",
              "7855  3488.1  0.0210   826.0492  0.1935  0.1084  0.0000  0.0701\n",
              "7856  3488.2  0.0209  1278.8179  0.1964  0.1063  0.0000  0.0516\n",
              "7857  3488.3  0.0209  1101.9746  0.1996  0.1047  0.0000  0.0616\n",
              "7858  3488.4  0.0211  1019.0737  0.2030  0.1038  0.0000  0.0684\n",
              "\n",
              "[1445 rows x 7 columns]"
            ],
            "text/html": [
              "\n",
              "  <div id=\"df-e9590c51-0bf6-4e56-ba42-25aed553270e\">\n",
              "    <div class=\"colab-df-container\">\n",
              "      <div>\n",
              "<style scoped>\n",
              "    .dataframe tbody tr th:only-of-type {\n",
              "        vertical-align: middle;\n",
              "    }\n",
              "\n",
              "    .dataframe tbody tr th {\n",
              "        vertical-align: top;\n",
              "    }\n",
              "\n",
              "    .dataframe thead th {\n",
              "        text-align: right;\n",
              "    }\n",
              "</style>\n",
              "<table border=\"1\" class=\"dataframe\">\n",
              "  <thead>\n",
              "    <tr style=\"text-align: right;\">\n",
              "      <th></th>\n",
              "      <th>DEPTH</th>\n",
              "      <th>BVW</th>\n",
              "      <th>KLOGH</th>\n",
              "      <th>PHIF</th>\n",
              "      <th>SW</th>\n",
              "      <th>VCARB</th>\n",
              "      <th>VSH</th>\n",
              "    </tr>\n",
              "  </thead>\n",
              "  <tbody>\n",
              "    <tr>\n",
              "      <th>3775</th>\n",
              "      <td>3319.7</td>\n",
              "      <td>0.0718</td>\n",
              "      <td>0.0748</td>\n",
              "      <td>0.0718</td>\n",
              "      <td>1.0000</td>\n",
              "      <td>0.2310</td>\n",
              "      <td>0.2122</td>\n",
              "    </tr>\n",
              "    <tr>\n",
              "      <th>3776</th>\n",
              "      <td>3319.8</td>\n",
              "      <td>0.0687</td>\n",
              "      <td>0.0569</td>\n",
              "      <td>0.0687</td>\n",
              "      <td>1.0000</td>\n",
              "      <td>0.2289</td>\n",
              "      <td>0.2223</td>\n",
              "    </tr>\n",
              "    <tr>\n",
              "      <th>3777</th>\n",
              "      <td>3319.9</td>\n",
              "      <td>0.0645</td>\n",
              "      <td>0.0398</td>\n",
              "      <td>0.0645</td>\n",
              "      <td>1.0000</td>\n",
              "      <td>0.2327</td>\n",
              "      <td>0.2314</td>\n",
              "    </tr>\n",
              "    <tr>\n",
              "      <th>3778</th>\n",
              "      <td>3320.0</td>\n",
              "      <td>0.0615</td>\n",
              "      <td>0.0337</td>\n",
              "      <td>0.0615</td>\n",
              "      <td>1.0000</td>\n",
              "      <td>0.2610</td>\n",
              "      <td>0.2197</td>\n",
              "    </tr>\n",
              "    <tr>\n",
              "      <th>3779</th>\n",
              "      <td>3320.1</td>\n",
              "      <td>0.0606</td>\n",
              "      <td>0.0312</td>\n",
              "      <td>0.0606</td>\n",
              "      <td>1.0000</td>\n",
              "      <td>0.2616</td>\n",
              "      <td>0.2217</td>\n",
              "    </tr>\n",
              "    <tr>\n",
              "      <th>...</th>\n",
              "      <td>...</td>\n",
              "      <td>...</td>\n",
              "      <td>...</td>\n",
              "      <td>...</td>\n",
              "      <td>...</td>\n",
              "      <td>...</td>\n",
              "      <td>...</td>\n",
              "    </tr>\n",
              "    <tr>\n",
              "      <th>7854</th>\n",
              "      <td>3488.0</td>\n",
              "      <td>0.0209</td>\n",
              "      <td>668.7131</td>\n",
              "      <td>0.1910</td>\n",
              "      <td>0.1096</td>\n",
              "      <td>0.0000</td>\n",
              "      <td>0.0781</td>\n",
              "    </tr>\n",
              "    <tr>\n",
              "      <th>7855</th>\n",
              "      <td>3488.1</td>\n",
              "      <td>0.0210</td>\n",
              "      <td>826.0492</td>\n",
              "      <td>0.1935</td>\n",
              "      <td>0.1084</td>\n",
              "      <td>0.0000</td>\n",
              "      <td>0.0701</td>\n",
              "    </tr>\n",
              "    <tr>\n",
              "      <th>7856</th>\n",
              "      <td>3488.2</td>\n",
              "      <td>0.0209</td>\n",
              "      <td>1278.8179</td>\n",
              "      <td>0.1964</td>\n",
              "      <td>0.1063</td>\n",
              "      <td>0.0000</td>\n",
              "      <td>0.0516</td>\n",
              "    </tr>\n",
              "    <tr>\n",
              "      <th>7857</th>\n",
              "      <td>3488.3</td>\n",
              "      <td>0.0209</td>\n",
              "      <td>1101.9746</td>\n",
              "      <td>0.1996</td>\n",
              "      <td>0.1047</td>\n",
              "      <td>0.0000</td>\n",
              "      <td>0.0616</td>\n",
              "    </tr>\n",
              "    <tr>\n",
              "      <th>7858</th>\n",
              "      <td>3488.4</td>\n",
              "      <td>0.0211</td>\n",
              "      <td>1019.0737</td>\n",
              "      <td>0.2030</td>\n",
              "      <td>0.1038</td>\n",
              "      <td>0.0000</td>\n",
              "      <td>0.0684</td>\n",
              "    </tr>\n",
              "  </tbody>\n",
              "</table>\n",
              "<p>1445 rows × 7 columns</p>\n",
              "</div>\n",
              "      <button class=\"colab-df-convert\" onclick=\"convertToInteractive('df-e9590c51-0bf6-4e56-ba42-25aed553270e')\"\n",
              "              title=\"Convert this dataframe to an interactive table.\"\n",
              "              style=\"display:none;\">\n",
              "        \n",
              "  <svg xmlns=\"http://www.w3.org/2000/svg\" height=\"24px\"viewBox=\"0 0 24 24\"\n",
              "       width=\"24px\">\n",
              "    <path d=\"M0 0h24v24H0V0z\" fill=\"none\"/>\n",
              "    <path d=\"M18.56 5.44l.94 2.06.94-2.06 2.06-.94-2.06-.94-.94-2.06-.94 2.06-2.06.94zm-11 1L8.5 8.5l.94-2.06 2.06-.94-2.06-.94L8.5 2.5l-.94 2.06-2.06.94zm10 10l.94 2.06.94-2.06 2.06-.94-2.06-.94-.94-2.06-.94 2.06-2.06.94z\"/><path d=\"M17.41 7.96l-1.37-1.37c-.4-.4-.92-.59-1.43-.59-.52 0-1.04.2-1.43.59L10.3 9.45l-7.72 7.72c-.78.78-.78 2.05 0 2.83L4 21.41c.39.39.9.59 1.41.59.51 0 1.02-.2 1.41-.59l7.78-7.78 2.81-2.81c.8-.78.8-2.07 0-2.86zM5.41 20L4 18.59l7.72-7.72 1.47 1.35L5.41 20z\"/>\n",
              "  </svg>\n",
              "      </button>\n",
              "      \n",
              "  <style>\n",
              "    .colab-df-container {\n",
              "      display:flex;\n",
              "      flex-wrap:wrap;\n",
              "      gap: 12px;\n",
              "    }\n",
              "\n",
              "    .colab-df-convert {\n",
              "      background-color: #E8F0FE;\n",
              "      border: none;\n",
              "      border-radius: 50%;\n",
              "      cursor: pointer;\n",
              "      display: none;\n",
              "      fill: #1967D2;\n",
              "      height: 32px;\n",
              "      padding: 0 0 0 0;\n",
              "      width: 32px;\n",
              "    }\n",
              "\n",
              "    .colab-df-convert:hover {\n",
              "      background-color: #E2EBFA;\n",
              "      box-shadow: 0px 1px 2px rgba(60, 64, 67, 0.3), 0px 1px 3px 1px rgba(60, 64, 67, 0.15);\n",
              "      fill: #174EA6;\n",
              "    }\n",
              "\n",
              "    [theme=dark] .colab-df-convert {\n",
              "      background-color: #3B4455;\n",
              "      fill: #D2E3FC;\n",
              "    }\n",
              "\n",
              "    [theme=dark] .colab-df-convert:hover {\n",
              "      background-color: #434B5C;\n",
              "      box-shadow: 0px 1px 3px 1px rgba(0, 0, 0, 0.15);\n",
              "      filter: drop-shadow(0px 1px 2px rgba(0, 0, 0, 0.3));\n",
              "      fill: #FFFFFF;\n",
              "    }\n",
              "  </style>\n",
              "\n",
              "      <script>\n",
              "        const buttonEl =\n",
              "          document.querySelector('#df-e9590c51-0bf6-4e56-ba42-25aed553270e button.colab-df-convert');\n",
              "        buttonEl.style.display =\n",
              "          google.colab.kernel.accessAllowed ? 'block' : 'none';\n",
              "\n",
              "        async function convertToInteractive(key) {\n",
              "          const element = document.querySelector('#df-e9590c51-0bf6-4e56-ba42-25aed553270e');\n",
              "          const dataTable =\n",
              "            await google.colab.kernel.invokeFunction('convertToInteractive',\n",
              "                                                     [key], {});\n",
              "          if (!dataTable) return;\n",
              "\n",
              "          const docLinkHtml = 'Like what you see? Visit the ' +\n",
              "            '<a target=\"_blank\" href=https://colab.research.google.com/notebooks/data_table.ipynb>data table notebook</a>'\n",
              "            + ' to learn more about interactive tables.';\n",
              "          element.innerHTML = '';\n",
              "          dataTable['output_type'] = 'display_data';\n",
              "          await google.colab.output.renderOutput(dataTable, element);\n",
              "          const docLink = document.createElement('div');\n",
              "          docLink.innerHTML = docLinkHtml;\n",
              "          element.appendChild(docLink);\n",
              "        }\n",
              "      </script>\n",
              "    </div>\n",
              "  </div>\n",
              "  "
            ]
          },
          "metadata": {},
          "execution_count": 17
        }
      ]
    },
    {
      "cell_type": "markdown",
      "source": [
        "## Plots"
      ],
      "metadata": {
        "id": "eLK1xUWKb_RZ"
      }
    },
    {
      "cell_type": "code",
      "source": [
        "Datascriper.plot(x='KLOGH', y='DEPTH', label='DEPTH')"
      ],
      "metadata": {
        "colab": {
          "base_uri": "https://localhost:8080/",
          "height": 296
        },
        "id": "ersfhTArcDCR",
        "outputId": "484e488a-bf0a-4a3b-f864-2723dcd512b6"
      },
      "execution_count": 18,
      "outputs": [
        {
          "output_type": "execute_result",
          "data": {
            "text/plain": [
              "<matplotlib.axes._subplots.AxesSubplot at 0x7f25506531f0>"
            ]
          },
          "metadata": {},
          "execution_count": 18
        },
        {
          "output_type": "display_data",
          "data": {
            "text/plain": [
              "<Figure size 432x288 with 1 Axes>"
            ],
            "image/png": "[encoded data removed]"
          },
          "metadata": {
            "needs_background": "light"
          }
        }
      ]
    },
    {
      "cell_type": "code",
      "source": [
        "plt.scatter('KLOGH', 'VSH')\n",
        "plt.show()"
      ],
      "metadata": {
        "colab": {
          "base_uri": "https://localhost:8080/",
          "height": 265
        },
        "id": "8vf1Hnwnbpvw",
        "outputId": "3e709820-6e01-4a1d-ff82-de40c5f3955b"
      },
      "execution_count": 19,
      "outputs": [
        {
          "output_type": "display_data",
          "data": {
            "text/plain": [
              "<Figure size 432x288 with 1 Axes>"
            ],
            "image/png": "[encoded data removed]"
          },
          "metadata": {
            "needs_background": "light"
          }
        }
      ]
    },
    {
      "cell_type": "code",
      "source": [
        "import seaborn as sns"
      ],
      "metadata": {
        "id": "YQM0wuNycKQZ"
      },
      "execution_count": 20,
      "outputs": []
    },
    {
      "cell_type": "code",
      "source": [
        "sns.scatterplot(data=Datascriper, x=\"KLOGH\", y=\"VSH\")"
      ],
      "metadata": {
        "colab": {
          "base_uri": "https://localhost:8080/",
          "height": 296
        },
        "id": "hmSyfWK4cNmY",
        "outputId": "07909b51-16d5-4f12-bb43-dba63478dffa"
      },
      "execution_count": 21,
      "outputs": [
        {
          "output_type": "execute_result",
          "data": {
            "text/plain": [
              "<matplotlib.axes._subplots.AxesSubplot at 0x7f2548964760>"
            ]
          },
          "metadata": {},
          "execution_count": 21
        },
        {
          "output_type": "display_data",
          "data": {
            "text/plain": [
              "<Figure size 432x288 with 1 Axes>"
            ],
            "image/png": "[encoded data removed]"
          },
          "metadata": {
            "needs_background": "light"
          }
        }
      ]
    },
    {
      "cell_type": "code",
      "source": [
        "sns.scatterplot(data=Datascriper, x=\"KLOGH\", y=\"DEPTH\")"
      ],
      "metadata": {
        "colab": {
          "base_uri": "https://localhost:8080/",
          "height": 296
        },
        "id": "t2oz-0VbcP2Y",
        "outputId": "cac13094-4032-4f2f-8727-909e61a6e9d2"
      },
      "execution_count": 22,
      "outputs": [
        {
          "output_type": "execute_result",
          "data": {
            "text/plain": [
              "<matplotlib.axes._subplots.AxesSubplot at 0x7f2548936430>"
            ]
          },
          "metadata": {},
          "execution_count": 22
        },
        {
          "output_type": "display_data",
          "data": {
            "text/plain": [
              "<Figure size 432x288 with 1 Axes>"
            ],
            "image/png": "[encoded data removed]"
          },
          "metadata": {
            "needs_background": "light"
          }
        }
      ]
    },
    {
      "cell_type": "code",
      "source": [
        "sns.barplot(x = 'KLOGH',y = 'DEPTH',data = Datascriper)"
      ],
      "metadata": {
        "colab": {
          "base_uri": "https://localhost:8080/",
          "height": 296
        },
        "id": "JCp_ie_-cSsD",
        "outputId": "faf972b7-0e03-4f02-b832-40ae97c1aaee"
      },
      "execution_count": 25,
      "outputs": [
        {
          "output_type": "execute_result",
          "data": {
            "text/plain": [
              "<matplotlib.axes._subplots.AxesSubplot at 0x7f25459eea60>"
            ]
          },
          "metadata": {},
          "execution_count": 25
        },
        {
          "output_type": "display_data",
          "data": {
            "text/plain": [
              "<Figure size 432x288 with 1 Axes>"
            ],
            "image/png": "[encoded data removed]"
          },
          "metadata": {
            "needs_background": "light"
          }
        }
      ]
    },
    {
      "cell_type": "code",
      "source": [
        "sns.barplot(x = 'KLOGH',y = 'BVW',data = Datascriper)"
      ],
      "metadata": {
        "colab": {
          "base_uri": "https://localhost:8080/",
          "height": 299
        },
        "id": "Lxk0L-AXcVI-",
        "outputId": "a2b1e829-496a-47a8-ddd0-32c3850ad74c"
      },
      "execution_count": 26,
      "outputs": [
        {
          "output_type": "execute_result",
          "data": {
            "text/plain": [
              "<matplotlib.axes._subplots.AxesSubplot at 0x7f2545a7b4c0>"
            ]
          },
          "metadata": {},
          "execution_count": 26
        },
        {
          "output_type": "display_data",
          "data": {
            "text/plain": [
              "<Figure size 432x288 with 1 Axes>"
            ],
            "image/png": "[encoded data removed]"
          },
          "metadata": {
            "needs_background": "light"
          }
        }
      ]
    },
    {
      "cell_type": "code",
      "source": [
        "Datascriper[\"DEPTH\"].hist()"
      ],
      "metadata": {
        "colab": {
          "base_uri": "https://localhost:8080/",
          "height": 285
        },
        "id": "f4MYMjlncXGq",
        "outputId": "fa81b950-8dcd-4981-cb9d-9d32ad556cd2"
      },
      "execution_count": 24,
      "outputs": [
        {
          "output_type": "execute_result",
          "data": {
            "text/plain": [
              "<matplotlib.axes._subplots.AxesSubplot at 0x7f25462b6640>"
            ]
          },
          "metadata": {},
          "execution_count": 24
        },
        {
          "output_type": "display_data",
          "data": {
            "text/plain": [
              "<Figure size 432x288 with 1 Axes>"
            ],
            "image/png": "[encoded data removed]"
          },
          "metadata": {
            "needs_background": "light"
          }
        }
      ]
    },
    {
      "cell_type": "code",
      "source": [],
      "metadata": {
        "id": "y0ktrUomcZGM"
      },
      "execution_count": null,
      "outputs": []
    }
  ]
}